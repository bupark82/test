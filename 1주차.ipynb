{
  "nbformat": 4,
  "nbformat_minor": 0,
  "metadata": {
    "colab": {
      "name": "1주차.ipynb",
      "provenance": [],
      "collapsed_sections": [],
      "authorship_tag": "ABX9TyPWV114L3RfaofbO8aFSvfa",
      "include_colab_link": true
    },
    "kernelspec": {
      "name": "python3",
      "display_name": "Python 3"
    }
  },
  "cells": [
    {
      "cell_type": "markdown",
      "metadata": {
        "id": "view-in-github",
        "colab_type": "text"
      },
      "source": [
        "<a href=\"https://colab.research.google.com/github/bupark82/test/blob/master/1%EC%A3%BC%EC%B0%A8.ipynb\" target=\"_parent\"><img src=\"https://colab.research.google.com/assets/colab-badge.svg\" alt=\"Open In Colab\"/></a>"
      ]
    },
    {
      "cell_type": "markdown",
      "metadata": {
        "id": "eYVJoKtmLMPq",
        "colab_type": "text"
      },
      "source": [
        "# 1주차 과제\n",
        "- 언어\n",
        "- 음성\n",
        "- 이미지\n",
        "- 자율주행\n"
      ]
    },
    {
      "cell_type": "markdown",
      "metadata": {
        "id": "Uo2CZJ9xNoAZ",
        "colab_type": "text"
      },
      "source": [
        "### 언어\n",
        "[언어](https://www.google.com)"
      ]
    },
    {
      "cell_type": "markdown",
      "metadata": {
        "id": "7CnzW-4JOaaI",
        "colab_type": "text"
      },
      "source": [
        "### 음성"
      ]
    },
    {
      "cell_type": "markdown",
      "metadata": {
        "id": "6h0ppNf5OeKA",
        "colab_type": "text"
      },
      "source": [
        "### 이미지\n",
        "![이미지](https://prwatech.in/blog/wp-content/uploads/2020/02/logi3.png)"
      ]
    },
    {
      "cell_type": "markdown",
      "metadata": {
        "id": "YuilntcDOh34",
        "colab_type": "text"
      },
      "source": [
        "### 자율주행\n",
        "[![예제](http://img.youtube.com/vi/RlQEoJaLQRA/0.jpg)](https://youtu.be/RlQEoJaLQRA?t=0s) "
      ]
    }
  ]
}